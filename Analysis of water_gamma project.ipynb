{
 "cells": [
  {
   "cell_type": "code",
   "execution_count": 1,
   "metadata": {},
   "outputs": [],
   "source": [
    "import config\n",
    "import matplotlib.pyplot as plt\n",
    "import seaborn as sns\n",
    "import scipy.stats as stats\n",
    "import mysql.connector \n",
    "import requests\n",
    "import json\n",
    "from bs4 import BeautifulSoup\n",
    "from mysql.connector import errorcode\n",
    "import time\n",
    "import numpy as np\n",
    "import pandas as pd\n",
    "from statsmodels.formula.api import ols\n",
    "import statsmodels.api as sm\n",
    "\n",
    "cnx = mysql.connector .connect(\n",
    "    host = config.host,\n",
    "    user = config.user,\n",
    "    passwd = config.password,\n",
    "    database = 'Shark'\n",
    ")\n",
    "cursor = cnx.cursor()"
   ]
  },
  {
   "cell_type": "code",
   "execution_count": 2,
   "metadata": {},
   "outputs": [
    {
     "data": {
      "text/html": [
       "<div>\n",
       "<style scoped>\n",
       "    .dataframe tbody tr th:only-of-type {\n",
       "        vertical-align: middle;\n",
       "    }\n",
       "\n",
       "    .dataframe tbody tr th {\n",
       "        vertical-align: top;\n",
       "    }\n",
       "\n",
       "    .dataframe thead th {\n",
       "        text-align: right;\n",
       "    }\n",
       "</style>\n",
       "<table border=\"1\" class=\"dataframe\">\n",
       "  <thead>\n",
       "    <tr style=\"text-align: right;\">\n",
       "      <th></th>\n",
       "      <th>0</th>\n",
       "      <th>1</th>\n",
       "      <th>2</th>\n",
       "      <th>3</th>\n",
       "      <th>4</th>\n",
       "      <th>5</th>\n",
       "      <th>6</th>\n",
       "      <th>7</th>\n",
       "      <th>8</th>\n",
       "    </tr>\n",
       "  </thead>\n",
       "  <tbody>\n",
       "    <tr>\n",
       "      <th>0</th>\n",
       "      <td>1</td>\n",
       "      <td>NEW YORK CITY</td>\n",
       "      <td>1</td>\n",
       "      <td>97.0</td>\n",
       "      <td>2375.0</td>\n",
       "      <td>1322.0</td>\n",
       "      <td>393.0</td>\n",
       "      <td>199.0</td>\n",
       "      <td>APPROVED</td>\n",
       "    </tr>\n",
       "    <tr>\n",
       "      <th>1</th>\n",
       "      <td>2</td>\n",
       "      <td>NEW YORK CITY</td>\n",
       "      <td>1</td>\n",
       "      <td>98.0</td>\n",
       "      <td>2377.0</td>\n",
       "      <td>1325.0</td>\n",
       "      <td>389.0</td>\n",
       "      <td>203.0</td>\n",
       "      <td>APPROVED</td>\n",
       "    </tr>\n",
       "    <tr>\n",
       "      <th>2</th>\n",
       "      <td>3</td>\n",
       "      <td>NEW YORK CITY</td>\n",
       "      <td>1</td>\n",
       "      <td>102.0</td>\n",
       "      <td>2374.0</td>\n",
       "      <td>1328.0</td>\n",
       "      <td>388.0</td>\n",
       "      <td>203.0</td>\n",
       "      <td>APPROVED</td>\n",
       "    </tr>\n",
       "    <tr>\n",
       "      <th>3</th>\n",
       "      <td>4</td>\n",
       "      <td>NEW YORK CITY</td>\n",
       "      <td>1</td>\n",
       "      <td>93.0</td>\n",
       "      <td>2366.0</td>\n",
       "      <td>1323.0</td>\n",
       "      <td>393.0</td>\n",
       "      <td>201.0</td>\n",
       "      <td>APPROVED</td>\n",
       "    </tr>\n",
       "    <tr>\n",
       "      <th>4</th>\n",
       "      <td>5</td>\n",
       "      <td>NEW YORK CITY</td>\n",
       "      <td>1</td>\n",
       "      <td>95.0</td>\n",
       "      <td>2355.0</td>\n",
       "      <td>1332.0</td>\n",
       "      <td>394.0</td>\n",
       "      <td>207.0</td>\n",
       "      <td>APPROVED</td>\n",
       "    </tr>\n",
       "  </tbody>\n",
       "</table>\n",
       "</div>"
      ],
      "text/plain": [
       "   0               1  2      3       4       5      6      7         8\n",
       "0  1   NEW YORK CITY  1   97.0  2375.0  1322.0  393.0  199.0  APPROVED\n",
       "1  2   NEW YORK CITY  1   98.0  2377.0  1325.0  389.0  203.0  APPROVED\n",
       "2  3   NEW YORK CITY  1  102.0  2374.0  1328.0  388.0  203.0  APPROVED\n",
       "3  4   NEW YORK CITY  1   93.0  2366.0  1323.0  393.0  201.0  APPROVED\n",
       "4  5   NEW YORK CITY  1   95.0  2355.0  1332.0  394.0  207.0  APPROVED"
      ]
     },
     "execution_count": 2,
     "metadata": {},
     "output_type": "execute_result"
    }
   ],
   "source": [
    "cursor.execute(\"\"\"select * from Shark.RADNYC;\"\"\")\n",
    "df = pd.DataFrame(cursor.fetchall())\n",
    "df.head()"
   ]
  },
  {
   "cell_type": "code",
   "execution_count": 3,
   "metadata": {},
   "outputs": [],
   "source": [
    "df.columns = ['Index', \"Location\", \"Month_Collected\", \"DER_nSv/h\", \"GAMMA_COUNT_R02\", \"GAMMA_COUNT_R03\", \"GAMMA_COUNT_R04\", \"GAMMA_COUNT_R05\", \"Status\"]"
   ]
  },
  {
   "cell_type": "markdown",
   "metadata": {},
   "source": [
    "# 1) Null hypothesis: Dose Eqivilant rate of Rochester ==  New York State Dose Eqivilant\n",
    "\n",
    "    Alternative hypothesis : Rochester dose rate =! New York State Dose Eqiviant"
   ]
  },
  {
   "cell_type": "code",
   "execution_count": 4,
   "metadata": {},
   "outputs": [],
   "source": [
    "# mu is population mean\n",
    "# sigma is population std\n",
    "# x is sample mean\n",
    "\n",
    "mu = df['DER_nSv/h'].mean()\n",
    "sigma = df['DER_nSv/h'].std()\n",
    "x = df[df['Location'] == ' ROCHESTER'] ['DER_nSv/h'].sample(200, random_state = 2 ).mean()\n"
   ]
  },
  {
   "cell_type": "code",
   "execution_count": 5,
   "metadata": {},
   "outputs": [
    {
     "name": "stdout",
     "output_type": "stream",
     "text": [
      "mean: -0.0\n",
      "standard deviation: 1.0\n"
     ]
    },
    {
     "data": {
      "image/png": "[encoded data removed]",
      "text/plain": [
       "<Figure size 432x288 with 1 Axes>"
      ]
     },
     "metadata": {
      "needs_background": "light"
     },
     "output_type": "display_data"
    }
   ],
   "source": [
    "doe = df['DER_nSv/h'].values\n",
    "standardized_doe = (doe - mu)/sigma\n",
    "\n",
    "sns.distplot(standardized_doe, kde=True)\n",
    "\n",
    "print(\"mean:\", round(np.mean(standardized_doe)))\n",
    "print(\"standard deviation:\", round(np.std(standardized_doe)))"
   ]
  },
  {
   "cell_type": "code",
   "execution_count": 6,
   "metadata": {},
   "outputs": [],
   "source": [
    "def calc_z_test (x, mu, sigma ):\n",
    "    return (x - mu)/sigma"
   ]
  },
  {
   "cell_type": "code",
   "execution_count": 7,
   "metadata": {},
   "outputs": [
    {
     "data": {
      "text/plain": [
       "0.5368852697913861"
      ]
     },
     "execution_count": 7,
     "metadata": {},
     "output_type": "execute_result"
    }
   ],
   "source": [
    "z = calc_z_test(x, mu, sigma)\n",
    "z"
   ]
  },
  {
   "cell_type": "code",
   "execution_count": 8,
   "metadata": {},
   "outputs": [
    {
     "data": {
      "text/plain": [
       "0.7043265667488108"
      ]
     },
     "execution_count": 8,
     "metadata": {},
     "output_type": "execute_result"
    }
   ],
   "source": [
    "p = stats.norm.cdf(z)\n",
    "p\n"
   ]
  },
  {
   "cell_type": "code",
   "execution_count": null,
   "metadata": {},
   "outputs": [],
   "source": []
  },
  {
   "cell_type": "markdown",
   "metadata": {},
   "source": [
    "# 2) Null hypothesis: All Location have same amount of gammas in water\n",
    "    Alternative hypothesis : All Location have different amount of gammas in water"
   ]
  },
  {
   "cell_type": "code",
   "execution_count": 47,
   "metadata": {},
   "outputs": [
    {
     "data": {
      "text/plain": [
       "([<matplotlib.axis.XTick at 0x1c2ce38dd8>,\n",
       "  <matplotlib.axis.XTick at 0x1c2ce490b8>,\n",
       "  <matplotlib.axis.XTick at 0x1c2ce496a0>,\n",
       "  <matplotlib.axis.XTick at 0x1c2d3ac668>,\n",
       "  <matplotlib.axis.XTick at 0x1c2d3acb00>],\n",
       " <a list of 5 Text xticklabel objects>)"
      ]
     },
     "execution_count": 47,
     "metadata": {},
     "output_type": "execute_result"
    },
    {
     "data": {
      "image/png": "[encoded data removed]",
      "text/plain": [
       "<Figure size 432x432 with 1 Axes>"
      ]
     },
     "metadata": {
      "needs_background": "light"
     },
     "output_type": "display_data"
    }
   ],
   "source": [
    "df.boxplot(\"GAMMA_COUNT_R02\", by= \"Location\", figsize= (6,6))\n",
    "plt.ylabel(\"GAMMA CPM\")\n",
    "\n",
    "plt.xticks([1, 2, 3, 4, 5 ] , ['Albany', \"New York\", \"Rochester\", \"Syracuse\", \"Yaphank\"], rotation=45)\n",
    "# plt.set_xticklabels(df.index,rotation=90)"
   ]
  },
  {
   "cell_type": "code",
   "execution_count": 10,
   "metadata": {},
   "outputs": [
    {
     "data": {
      "text/html": [
       "<table class=\"simpletable\">\n",
       "<caption>OLS Regression Results</caption>\n",
       "<tr>\n",
       "  <th>Dep. Variable:</th>     <td>GAMMA_COUNT_R02</td> <th>  R-squared:         </th>  <td>   0.973</td>  \n",
       "</tr>\n",
       "<tr>\n",
       "  <th>Model:</th>                   <td>OLS</td>       <th>  Adj. R-squared:    </th>  <td>   0.973</td>  \n",
       "</tr>\n",
       "<tr>\n",
       "  <th>Method:</th>             <td>Least Squares</td>  <th>  F-statistic:       </th>  <td>2.592e+05</td> \n",
       "</tr>\n",
       "<tr>\n",
       "  <th>Date:</th>             <td>Thu, 14 Nov 2019</td> <th>  Prob (F-statistic):</th>   <td>  0.00</td>   \n",
       "</tr>\n",
       "<tr>\n",
       "  <th>Time:</th>                 <td>15:31:34</td>     <th>  Log-Likelihood:    </th> <td>-1.7924e+05</td>\n",
       "</tr>\n",
       "<tr>\n",
       "  <th>No. Observations:</th>      <td> 29138</td>      <th>  AIC:               </th>  <td>3.585e+05</td> \n",
       "</tr>\n",
       "<tr>\n",
       "  <th>Df Residuals:</th>          <td> 29133</td>      <th>  BIC:               </th>  <td>3.585e+05</td> \n",
       "</tr>\n",
       "<tr>\n",
       "  <th>Df Model:</th>              <td>     4</td>      <th>                     </th>      <td> </td>     \n",
       "</tr>\n",
       "<tr>\n",
       "  <th>Covariance Type:</th>      <td>nonrobust</td>    <th>                     </th>      <td> </td>     \n",
       "</tr>\n",
       "</table>\n",
       "<table class=\"simpletable\">\n",
       "<tr>\n",
       "               <td></td>                 <th>coef</th>     <th>std err</th>      <th>t</th>      <th>P>|t|</th>  <th>[0.025</th>    <th>0.975]</th>  \n",
       "</tr>\n",
       "<tr>\n",
       "  <th>Intercept</th>                  <td> 1557.7228</td> <td>    1.462</td> <td> 1065.376</td> <td> 0.000</td> <td> 1554.857</td> <td> 1560.589</td>\n",
       "</tr>\n",
       "<tr>\n",
       "  <th>Location[T. NEW YORK CITY]</th> <td>  840.2261</td> <td>    2.131</td> <td>  394.242</td> <td> 0.000</td> <td>  836.049</td> <td>  844.403</td>\n",
       "</tr>\n",
       "<tr>\n",
       "  <th>Location[T. ROCHESTER]</th>     <td> 1489.8259</td> <td>    1.978</td> <td>  753.031</td> <td> 0.000</td> <td> 1485.948</td> <td> 1493.704</td>\n",
       "</tr>\n",
       "<tr>\n",
       "  <th>Location[T. SYRACUSE]</th>      <td> -256.8766</td> <td>    2.091</td> <td> -122.832</td> <td> 0.000</td> <td> -260.976</td> <td> -252.778</td>\n",
       "</tr>\n",
       "<tr>\n",
       "  <th>Location[T. YAPHANK]</th>       <td>   79.7222</td> <td>    2.209</td> <td>   36.084</td> <td> 0.000</td> <td>   75.392</td> <td>   84.053</td>\n",
       "</tr>\n",
       "</table>\n",
       "<table class=\"simpletable\">\n",
       "<tr>\n",
       "  <th>Omnibus:</th>       <td>30505.516</td> <th>  Durbin-Watson:     </th>  <td>   0.288</td>  \n",
       "</tr>\n",
       "<tr>\n",
       "  <th>Prob(Omnibus):</th>  <td> 0.000</td>   <th>  Jarque-Bera (JB):  </th> <td>7393786.346</td>\n",
       "</tr>\n",
       "<tr>\n",
       "  <th>Skew:</th>           <td> 4.784</td>   <th>  Prob(JB):          </th>  <td>    0.00</td>  \n",
       "</tr>\n",
       "<tr>\n",
       "  <th>Kurtosis:</th>       <td>80.450</td>   <th>  Cond. No.          </th>  <td>    5.77</td>  \n",
       "</tr>\n",
       "</table><br/><br/>Warnings:<br/>[1] Standard Errors assume that the covariance matrix of the errors is correctly specified."
      ],
      "text/plain": [
       "<class 'statsmodels.iolib.summary.Summary'>\n",
       "\"\"\"\n",
       "                            OLS Regression Results                            \n",
       "==============================================================================\n",
       "Dep. Variable:        GAMMA_COUNT_R02   R-squared:                       0.973\n",
       "Model:                            OLS   Adj. R-squared:                  0.973\n",
       "Method:                 Least Squares   F-statistic:                 2.592e+05\n",
       "Date:                Thu, 14 Nov 2019   Prob (F-statistic):               0.00\n",
       "Time:                        15:31:34   Log-Likelihood:            -1.7924e+05\n",
       "No. Observations:               29138   AIC:                         3.585e+05\n",
       "Df Residuals:                   29133   BIC:                         3.585e+05\n",
       "Df Model:                           4                                         \n",
       "Covariance Type:            nonrobust                                         \n",
       "==============================================================================================\n",
       "                                 coef    std err          t      P>|t|      [0.025      0.975]\n",
       "----------------------------------------------------------------------------------------------\n",
       "Intercept                   1557.7228      1.462   1065.376      0.000    1554.857    1560.589\n",
       "Location[T. NEW YORK CITY]   840.2261      2.131    394.242      0.000     836.049     844.403\n",
       "Location[T. ROCHESTER]      1489.8259      1.978    753.031      0.000    1485.948    1493.704\n",
       "Location[T. SYRACUSE]       -256.8766      2.091   -122.832      0.000    -260.976    -252.778\n",
       "Location[T. YAPHANK]          79.7222      2.209     36.084      0.000      75.392      84.053\n",
       "==============================================================================\n",
       "Omnibus:                    30505.516   Durbin-Watson:                   0.288\n",
       "Prob(Omnibus):                  0.000   Jarque-Bera (JB):          7393786.346\n",
       "Skew:                           4.784   Prob(JB):                         0.00\n",
       "Kurtosis:                      80.450   Cond. No.                         5.77\n",
       "==============================================================================\n",
       "\n",
       "Warnings:\n",
       "[1] Standard Errors assume that the covariance matrix of the errors is correctly specified.\n",
       "\"\"\""
      ]
     },
     "execution_count": 10,
     "metadata": {},
     "output_type": "execute_result"
    }
   ],
   "source": [
    "# why can we use ols in this case?\n",
    "anova_location = ols('GAMMA_COUNT_R02 ~ Location ',data=df).fit()\n",
    "anova_location.summary()"
   ]
  },
  {
   "cell_type": "code",
   "execution_count": 13,
   "metadata": {},
   "outputs": [
    {
     "name": "stdout",
     "output_type": "stream",
     "text": [
      "               df        sum_sq       mean_sq              F  PR(>F)\n",
      "Location      4.0  1.337840e+10  3.344601e+09  259234.189507     0.0\n",
      "Residual  29133.0  3.758696e+08  1.290185e+04            NaN     NaN\n"
     ]
    }
   ],
   "source": [
    "anova_table = sm.stats.anova_lm(anova_location, type=2)\n",
    "print(anova_table)"
   ]
  },
  {
   "cell_type": "markdown",
   "metadata": {},
   "source": [
    "# 3) Null hypothesis: All months have same amount of gammas in water\n",
    "    Alternative hypothesis : All months have different amount of gammas in water"
   ]
  },
  {
   "cell_type": "code",
   "execution_count": 26,
   "metadata": {},
   "outputs": [
    {
     "data": {
      "text/plain": [
       "Text(0, 0.5, 'Gamma CPM')"
      ]
     },
     "execution_count": 26,
     "metadata": {},
     "output_type": "execute_result"
    },
    {
     "data": {
      "image/png": "[encoded data removed]",
      "text/plain": [
       "<Figure size 432x432 with 1 Axes>"
      ]
     },
     "metadata": {
      "needs_background": "light"
     },
     "output_type": "display_data"
    }
   ],
   "source": [
    "df.Month_Collected = df.Month_Collected.astype(int)\n",
    "df.boxplot(\"GAMMA_COUNT_R02\", by= \"Month_Collected\", figsize= (6,6))\n",
    "plt.ylabel('Gamma CPM')"
   ]
  },
  {
   "cell_type": "code",
   "execution_count": 22,
   "metadata": {},
   "outputs": [
    {
     "data": {
      "text/html": [
       "<table class=\"simpletable\">\n",
       "<caption>OLS Regression Results</caption>\n",
       "<tr>\n",
       "  <th>Dep. Variable:</th>     <td>GAMMA_COUNT_R02</td> <th>  R-squared:         </th>  <td>   0.014</td>  \n",
       "</tr>\n",
       "<tr>\n",
       "  <th>Model:</th>                   <td>OLS</td>       <th>  Adj. R-squared:    </th>  <td>   0.014</td>  \n",
       "</tr>\n",
       "<tr>\n",
       "  <th>Method:</th>             <td>Least Squares</td>  <th>  F-statistic:       </th>  <td>   42.41</td>  \n",
       "</tr>\n",
       "<tr>\n",
       "  <th>Date:</th>             <td>Thu, 14 Nov 2019</td> <th>  Prob (F-statistic):</th>  <td>3.00e-84</td>  \n",
       "</tr>\n",
       "<tr>\n",
       "  <th>Time:</th>                 <td>15:34:20</td>     <th>  Log-Likelihood:    </th> <td>-2.3148e+05</td>\n",
       "</tr>\n",
       "<tr>\n",
       "  <th>No. Observations:</th>      <td> 29138</td>      <th>  AIC:               </th>  <td>4.630e+05</td> \n",
       "</tr>\n",
       "<tr>\n",
       "  <th>Df Residuals:</th>          <td> 29127</td>      <th>  BIC:               </th>  <td>4.631e+05</td> \n",
       "</tr>\n",
       "<tr>\n",
       "  <th>Df Model:</th>              <td>    10</td>      <th>                     </th>      <td> </td>     \n",
       "</tr>\n",
       "<tr>\n",
       "  <th>Covariance Type:</th>      <td>nonrobust</td>    <th>                     </th>      <td> </td>     \n",
       "</tr>\n",
       "</table>\n",
       "<table class=\"simpletable\">\n",
       "<tr>\n",
       "            <td></td>               <th>coef</th>     <th>std err</th>      <th>t</th>      <th>P>|t|</th>  <th>[0.025</th>    <th>0.975]</th>  \n",
       "</tr>\n",
       "<tr>\n",
       "  <th>Intercept</th>             <td> 1881.3753</td> <td>   12.695</td> <td>  148.198</td> <td> 0.000</td> <td> 1856.492</td> <td> 1906.258</td>\n",
       "</tr>\n",
       "<tr>\n",
       "  <th>Month_Collected[T.10]</th> <td>  249.1297</td> <td>   18.535</td> <td>   13.441</td> <td> 0.000</td> <td>  212.800</td> <td>  285.459</td>\n",
       "</tr>\n",
       "<tr>\n",
       "  <th>Month_Collected[T.11]</th> <td>   79.2274</td> <td>   23.411</td> <td>    3.384</td> <td> 0.001</td> <td>   33.341</td> <td>  125.114</td>\n",
       "</tr>\n",
       "<tr>\n",
       "  <th>Month_Collected[T.2]</th>  <td>  288.5712</td> <td>   18.951</td> <td>   15.227</td> <td> 0.000</td> <td>  251.426</td> <td>  325.716</td>\n",
       "</tr>\n",
       "<tr>\n",
       "  <th>Month_Collected[T.3]</th>  <td>   98.3489</td> <td>   17.259</td> <td>    5.699</td> <td> 0.000</td> <td>   64.521</td> <td>  132.176</td>\n",
       "</tr>\n",
       "<tr>\n",
       "  <th>Month_Collected[T.4]</th>  <td>  161.7359</td> <td>   17.602</td> <td>    9.189</td> <td> 0.000</td> <td>  127.236</td> <td>  196.236</td>\n",
       "</tr>\n",
       "<tr>\n",
       "  <th>Month_Collected[T.5]</th>  <td>  199.7962</td> <td>   17.617</td> <td>   11.341</td> <td> 0.000</td> <td>  165.267</td> <td>  234.325</td>\n",
       "</tr>\n",
       "<tr>\n",
       "  <th>Month_Collected[T.6]</th>  <td>  198.6687</td> <td>   17.738</td> <td>   11.200</td> <td> 0.000</td> <td>  163.902</td> <td>  233.435</td>\n",
       "</tr>\n",
       "<tr>\n",
       "  <th>Month_Collected[T.7]</th>  <td>  271.0256</td> <td>   18.833</td> <td>   14.391</td> <td> 0.000</td> <td>  234.111</td> <td>  307.940</td>\n",
       "</tr>\n",
       "<tr>\n",
       "  <th>Month_Collected[T.8]</th>  <td>  120.1833</td> <td>   18.010</td> <td>    6.673</td> <td> 0.000</td> <td>   84.883</td> <td>  155.484</td>\n",
       "</tr>\n",
       "<tr>\n",
       "  <th>Month_Collected[T.9]</th>  <td>  145.5290</td> <td>   19.311</td> <td>    7.536</td> <td> 0.000</td> <td>  107.678</td> <td>  183.380</td>\n",
       "</tr>\n",
       "</table>\n",
       "<table class=\"simpletable\">\n",
       "<tr>\n",
       "  <th>Omnibus:</th>       <td>13925.765</td> <th>  Durbin-Watson:     </th> <td>   0.008</td>\n",
       "</tr>\n",
       "<tr>\n",
       "  <th>Prob(Omnibus):</th>  <td> 0.000</td>   <th>  Jarque-Bera (JB):  </th> <td>2693.772</td>\n",
       "</tr>\n",
       "<tr>\n",
       "  <th>Skew:</th>           <td> 0.496</td>   <th>  Prob(JB):          </th> <td>    0.00</td>\n",
       "</tr>\n",
       "<tr>\n",
       "  <th>Kurtosis:</th>       <td> 1.890</td>   <th>  Cond. No.          </th> <td>    11.5</td>\n",
       "</tr>\n",
       "</table><br/><br/>Warnings:<br/>[1] Standard Errors assume that the covariance matrix of the errors is correctly specified."
      ],
      "text/plain": [
       "<class 'statsmodels.iolib.summary.Summary'>\n",
       "\"\"\"\n",
       "                            OLS Regression Results                            \n",
       "==============================================================================\n",
       "Dep. Variable:        GAMMA_COUNT_R02   R-squared:                       0.014\n",
       "Model:                            OLS   Adj. R-squared:                  0.014\n",
       "Method:                 Least Squares   F-statistic:                     42.41\n",
       "Date:                Thu, 14 Nov 2019   Prob (F-statistic):           3.00e-84\n",
       "Time:                        15:34:20   Log-Likelihood:            -2.3148e+05\n",
       "No. Observations:               29138   AIC:                         4.630e+05\n",
       "Df Residuals:                   29127   BIC:                         4.631e+05\n",
       "Df Model:                          10                                         \n",
       "Covariance Type:            nonrobust                                         \n",
       "=========================================================================================\n",
       "                            coef    std err          t      P>|t|      [0.025      0.975]\n",
       "-----------------------------------------------------------------------------------------\n",
       "Intercept              1881.3753     12.695    148.198      0.000    1856.492    1906.258\n",
       "Month_Collected[T.10]   249.1297     18.535     13.441      0.000     212.800     285.459\n",
       "Month_Collected[T.11]    79.2274     23.411      3.384      0.001      33.341     125.114\n",
       "Month_Collected[T.2]    288.5712     18.951     15.227      0.000     251.426     325.716\n",
       "Month_Collected[T.3]     98.3489     17.259      5.699      0.000      64.521     132.176\n",
       "Month_Collected[T.4]    161.7359     17.602      9.189      0.000     127.236     196.236\n",
       "Month_Collected[T.5]    199.7962     17.617     11.341      0.000     165.267     234.325\n",
       "Month_Collected[T.6]    198.6687     17.738     11.200      0.000     163.902     233.435\n",
       "Month_Collected[T.7]    271.0256     18.833     14.391      0.000     234.111     307.940\n",
       "Month_Collected[T.8]    120.1833     18.010      6.673      0.000      84.883     155.484\n",
       "Month_Collected[T.9]    145.5290     19.311      7.536      0.000     107.678     183.380\n",
       "==============================================================================\n",
       "Omnibus:                    13925.765   Durbin-Watson:                   0.008\n",
       "Prob(Omnibus):                  0.000   Jarque-Bera (JB):             2693.772\n",
       "Skew:                           0.496   Prob(JB):                         0.00\n",
       "Kurtosis:                       1.890   Cond. No.                         11.5\n",
       "==============================================================================\n",
       "\n",
       "Warnings:\n",
       "[1] Standard Errors assume that the covariance matrix of the errors is correctly specified.\n",
       "\"\"\""
      ]
     },
     "execution_count": 22,
     "metadata": {},
     "output_type": "execute_result"
    }
   ],
   "source": [
    "df.Month_Collected = df.Month_Collected.astype(str)\n",
    "lm = ols('GAMMA_COUNT_R02 ~ Month_Collected', df).fit()\n",
    "lm.summary()\n"
   ]
  },
  {
   "cell_type": "code",
   "execution_count": 18,
   "metadata": {},
   "outputs": [
    {
     "name": "stdout",
     "output_type": "stream",
     "text": [
      "                       sum_sq       df          F        PR(>F)\n",
      "Month_Collected  1.598646e+07      1.0  33.903907  5.850937e-09\n",
      "Residual         1.373829e+10  29136.0        NaN           NaN\n"
     ]
    }
   ],
   "source": [
    "table = sm.stats.anova_lm(lm, typ=2)\n",
    "print(table)"
   ]
  },
  {
   "cell_type": "code",
   "execution_count": null,
   "metadata": {},
   "outputs": [],
   "source": []
  }
 ],
 "metadata": {
  "kernelspec": {
   "display_name": "Python 3",
   "language": "python",
   "name": "python3"
  },
  "language_info": {
   "codemirror_mode": {
    "name": "ipython",
    "version": 3
   },
   "file_extension": ".py",
   "mimetype": "text/x-python",
   "name": "python",
   "nbconvert_exporter": "python",
   "pygments_lexer": "ipython3",
   "version": "3.7.3"
  }
 },
 "nbformat": 4,
 "nbformat_minor": 2
}
